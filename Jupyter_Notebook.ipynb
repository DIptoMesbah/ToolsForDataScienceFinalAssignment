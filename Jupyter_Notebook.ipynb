{
 "cells": [
  {
   "cell_type": "markdown",
   "metadata": {},
   "source": [
    "<center>\n",
    "    <img src=\"https://cf-courses-data.s3.us.cloud-object-storage.appdomain.cloud/IBMDeveloperSkillsNetwork-DS0105EN-SkillsNetwork/labs/Module2/images/SN_web_lightmode.png\" width=\"300\" alt=\"cognitiveclass.ai logo\">\n",
    "</center>\n"
   ]
  },
  {
   "cell_type": "markdown",
   "metadata": {},
   "source": [
    "#### Add your code below following the instructions given in the course\n"
   ]
  },
  {
   "cell_type": "markdown",
   "metadata": {},
   "source": [
    "# My Jupyter Notebook on IBM Watson Studio"
   ]
  },
  {
   "cell_type": "markdown",
   "metadata": {},
   "source": [
    "__Dipto Mesbah__\n",
    "Assistant Editor at ICE Media Ltd"
   ]
  },
  {
   "cell_type": "markdown",
   "metadata": {},
   "source": [
    "_I am interested in data science because I want to contribute to the growth of the media industry in my country, Bangladesh, through data-driven decision making. Media organisations have collected a lot of data over the past decade, and there is huge demand to convert it into revenue generating, actionable strategies, and I believe data science will help me build a lucrative career in the media industry._"
   ]
  },
  {
   "cell_type": "markdown",
   "metadata": {},
   "source": [
    "### The code below calculates the area of a circle whose radius is known."
   ]
  },
  {
   "cell_type": "code",
   "execution_count": 1,
   "metadata": {
    "tags": []
   },
   "outputs": [
    {
     "name": "stdin",
     "output_type": "stream",
     "text": [
      "Please enter the radius:  5.6\n"
     ]
    },
    {
     "name": "stdout",
     "output_type": "stream",
     "text": [
      "The area of a circle with radius 5.6 is 98.5203456165759\n"
     ]
    }
   ],
   "source": [
    "import math\n",
    "\n",
    "radius = input(\"Please enter the radius: \")\n",
    "r = float(radius)\n",
    "area = math.pi * (r**2)\n",
    "print(f\"The area of a circle with radius {r} is {area}\")"
   ]
  },
  {
   "cell_type": "markdown",
   "metadata": {},
   "source": [
    "Horizontal rule/line:<br>\n",
    "***\n",
    "\n",
    "\n",
    "Bulleted list:<br>\n",
    "* First item\n",
    "* Second item\n",
    "* Third item\n",
    "* Fourth item\n",
    "* Fifth item\n",
    "\n",
    "\n",
    "Numbered list:<br>\n",
    "1. Week 1 - Data Scientist's Toolkit\n",
    "2. Open Source Tools\n",
    "3. IBM Tools for Data Science\n",
    "4. Final Assignment\n",
    "\n",
    "\n",
    "Table:<br>\n",
    "Date|Class Attendance\n",
    "---|---|\n",
    "01 Jan|25\n",
    "08 Jan|28\n",
    "15 Jan|26\n",
    "22 Jan|28\n",
    "29 Jan|28\n",
    "\n",
    "\n",
    "Hyperlink:<br>\n",
    "__[Click here to go visit the Coursera website](https://www.coursera.org/)__\n",
    "\n",
    "\n",
    "Image:<br>\n",
    "<img src=\"https://www.ibm.com/brand/experience-guides/developer/8f4e3cc2b5d52354a6d43c8edba1e3c9/02_8-bar-reverse.svg\" alt=\"The IBM logo taken from ibm.com\" title=\"IBM Logo\" />\n",
    "\n",
    "\n",
    "Code/syntax highlighting:<br>\n",
    "`This sentence is highlighted.` Only this `word` is highlighted.\n",
    "\n",
    "Blocked quotes:<br>\n",
    "> To be, or not to be \n",
    "\n",
    "\n",
    "Strikethrough:<br>\n",
    "~This sentence has been struck through.~\n"
   ]
  },
  {
   "cell_type": "code",
   "execution_count": null,
   "metadata": {},
   "outputs": [],
   "source": []
  }
 ],
 "metadata": {
  "kernelspec": {
   "display_name": "Python 3 (ipykernel)",
   "language": "python",
   "name": "python3"
  },
  "language_info": {
   "codemirror_mode": {
    "name": "ipython",
    "version": 3
   },
   "file_extension": ".py",
   "mimetype": "text/x-python",
   "name": "python",
   "nbconvert_exporter": "python",
   "pygments_lexer": "ipython3",
   "version": "3.11.0"
  }
 },
 "nbformat": 4,
 "nbformat_minor": 4
}
