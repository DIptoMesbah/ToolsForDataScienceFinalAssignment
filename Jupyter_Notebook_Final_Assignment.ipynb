{
 "cells": [
  {
   "cell_type": "markdown",
   "id": "a7558b73-0a1e-4e8a-a895-a2b6542d541e",
   "metadata": {},
   "source": [
    "# My Jupyter Notebook on IBM Watson Studio"
   ]
  },
  {
   "cell_type": "markdown",
   "id": "2f9a62c9-1a51-40aa-8a05-963474e41833",
   "metadata": {},
   "source": [
    "__Dipto Mesbah__\n",
    "Assistant Editor at ICE Media Ltd"
   ]
  },
  {
   "cell_type": "markdown",
   "id": "e4543d99-a191-4729-b37b-ecfb250f8580",
   "metadata": {},
   "source": [
    "_I am interested in data science because I want to contribute to the growth of the media industry in my country, Bangladesh, through data-driven decision making. Media organisations have collected a lot of data over the past decade, and there is huge demand to convert it into revenue generating, actionable strategies, and I believe data science will help me build a lucrative career in the media industry._"
   ]
  },
  {
   "cell_type": "markdown",
   "id": "1fe41b71-3ad0-4c7b-a22c-68959c8bdbfd",
   "metadata": {},
   "source": [
    "### The code below calculates the area of a circle whose radius is known."
   ]
  },
  {
   "cell_type": "code",
   "execution_count": 1,
   "id": "85efbf06-5e55-4f2f-a623-bd8b224b4c6c",
   "metadata": {},
   "outputs": [
    {
     "name": "stdin",
     "output_type": "stream",
     "text": [
      "Please enter the radius:  5.6\n"
     ]
    },
    {
     "name": "stdout",
     "output_type": "stream",
     "text": [
      "The area of a circle with radius 5.6 is 98.5203456165759\n"
     ]
    }
   ],
   "source": [
    "import math\n",
    "\n",
    "radius = input(\"Please enter the radius: \")\n",
    "r = float(radius)\n",
    "area = math.pi * (r**2)\n",
    "print(f\"The area of a circle with radius {r} is {area}\")"
   ]
  },
  {
   "cell_type": "markdown",
   "id": "01fd3c89-4fdc-4ed8-ace2-b0ea3c1ef156",
   "metadata": {},
   "source": [
    "Horizontal rule/line:<br>\n",
    "***\n",
    "\n",
    "\n",
    "Bulleted list:<br>\n",
    "* First item\n",
    "* Second item\n",
    "* Third item\n",
    "* Fourth item\n",
    "* Fifth item\n",
    "\n",
    "\n",
    "Numbered list:<br>\n",
    "1. Week 1 - Data Scientist's Toolkit\n",
    "2. Open Source Tools\n",
    "3. IBM Tools for Data Science\n",
    "4. Final Assignment\n",
    "\n",
    "\n",
    "Table:<br>\n",
    "Date|Class Attendance\n",
    "---|---|\n",
    "01 Jan|25\n",
    "08 Jan|28\n",
    "15 Jan|26\n",
    "22 Jan|28\n",
    "29 Jan|28\n",
    "\n",
    "\n",
    "Hyperlink:<br>\n",
    "__[Click here to visit the Coursera website](https://www.coursera.org/)__\n",
    "\n",
    "\n",
    "Image:<br>\n",
    "<img src=\"https://www.ibm.com/brand/experience-guides/developer/8f4e3cc2b5d52354a6d43c8edba1e3c9/02_8-bar-reverse.svg\" alt=\"The IBM logo taken from ibm.com\" title=\"IBM Logo\" />\n",
    "\n",
    "\n",
    "Code/syntax highlighting:<br>\n",
    "`This sentence is highlighted.` Only this `word` is highlighted.\n",
    "\n",
    "Blocked quotes:<br>\n",
    "> To be, or not to be \n",
    "\n",
    "\n",
    "Strikethrough:<br>\n",
    "~This sentence has been struck through.~"
   ]
  },
  {
   "cell_type": "code",
   "execution_count": null,
   "id": "80122744-0984-4209-94a2-10c7495cf242",
   "metadata": {},
   "outputs": [],
   "source": []
  }
 ],
 "metadata": {
  "kernelspec": {
   "display_name": "Python",
   "language": "python",
   "name": "conda-env-python-py"
  },
  "language_info": {
   "codemirror_mode": {
    "name": "ipython",
    "version": 3
   },
   "file_extension": ".py",
   "mimetype": "text/x-python",
   "name": "python",
   "nbconvert_exporter": "python",
   "pygments_lexer": "ipython3",
   "version": "3.7.12"
  }
 },
 "nbformat": 4,
 "nbformat_minor": 5
}
